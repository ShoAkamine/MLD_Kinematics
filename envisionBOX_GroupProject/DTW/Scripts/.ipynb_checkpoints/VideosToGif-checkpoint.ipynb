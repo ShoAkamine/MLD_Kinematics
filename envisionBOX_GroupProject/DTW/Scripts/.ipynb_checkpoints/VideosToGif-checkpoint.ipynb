{
 "cells": [
  {
   "cell_type": "markdown",
   "metadata": {},
   "source": [
    "<center><h1> Converting Videos Into Gifs </h1>\n",
    "\n",
    "    <h3> Wim Pouw ( wim.pouw@donders.ru.nl )<br>James Trujillo ( james.trujillo@donders.ru.nl )<br>\n",
    "    18-11-2021 </h3>\n",
    "\n",
    "<h3> Info documents </h3>\n",
    "This script converts videos into gifs.\n",
    "<br><br>"
   ]
  },
  {
   "cell_type": "code",
   "execution_count": null,
   "metadata": {},
   "outputs": [],
   "source": [
    "import os #basic foldering functions\n",
    "\n",
    "#foldering\n",
    "videofol =  \"../Videos/WithMotionTracking/\" #video folder\n",
    "outputfol = \"./Images/\" #where do you want to save your clipped videos?\n",
    "\n",
    "#list annotationfiles\n",
    "videos = os.listdir(videofol) #list all the annotationfile locations in the annotationfolder (begintime, endtime, annotation)"
   ]
  },
  {
   "cell_type": "code",
   "execution_count": null,
   "metadata": {},
   "outputs": [],
   "source": [
    "from moviepy.editor import *\n",
    "for vid in videos: #loop through your annoation files\n",
    "    clip = VideoFileClip(videofol+vid)\n",
    "    clip.write_gif(outputfol+vid[:len(vid)-4])"
   ]
  },
  {
   "cell_type": "code",
   "execution_count": null,
   "metadata": {},
   "outputs": [],
   "source": []
  },
  {
   "cell_type": "code",
   "execution_count": 12,
   "metadata": {},
   "outputs": [
    {
     "data": {
      "text/plain": [
       "'../Videos/WithMotionTrackingZIMMERFRAME_silentgesture.mp4'"
      ]
     },
     "execution_count": 12,
     "metadata": {},
     "output_type": "execute_result"
    }
   ],
   "source": []
  },
  {
   "cell_type": "code",
   "execution_count": null,
   "metadata": {},
   "outputs": [],
   "source": []
  }
 ],
 "metadata": {
  "kernelspec": {
   "display_name": "Python 3",
   "language": "python",
   "name": "python3"
  },
  "language_info": {
   "codemirror_mode": {
    "name": "ipython",
    "version": 3
   },
   "file_extension": ".py",
   "mimetype": "text/x-python",
   "name": "python",
   "nbconvert_exporter": "python",
   "pygments_lexer": "ipython3",
   "version": "3.7.6"
  }
 },
 "nbformat": 4,
 "nbformat_minor": 4
}
