{
 "cells": [
  {
   "cell_type": "markdown",
   "metadata": {},
   "source": [
    "## Merge mediapipe output csv files\n",
    "Mediapipe returns three csv files for each video: _body.csv, _face.csv, _hands.csv\n",
    "\n",
    "In this script, we merge all three files and export as one csv file."
   ]
  },
  {
   "cell_type": "code",
   "execution_count": 61,
   "metadata": {},
   "outputs": [],
   "source": [
    "import os\n",
    "import pandas as pd\n",
    "\n",
    "def drop_wrist_columns(df):\n",
    "    df.drop(['X_LEFT_WRIST', 'Y_LEFT_WRIST', 'Z_LEFT_WRIST', \n",
    "             'X_RIGHT_WRIST', 'Y_RIGHT_WRIST', 'Z_RIGHT_WRIST',\n",
    "             'visibility_LEFT_WRIST', 'visibility_RIGHT_WRIST'], axis=1, inplace=True)\n",
    "    return df\n",
    "\n",
    "def merge_outputs(output_folder, merged_output_folder, folder_name):\n",
    "    print(\"Merging files for folder: \" + folder_name)\n",
    "    folder_path = os.path.join(output_folder, folder_name)\n",
    "\n",
    "    for file in os.listdir(folder_path):\n",
    "        file_path = os.path.join(folder_path, file)\n",
    "        if os.path.isfile(os.path.join(folder_path, file)) and file.endswith(\".csv\"):\n",
    "            if file.endswith(\"_body.csv\"):\n",
    "                body = pd.read_csv(file_path)\n",
    "                # Drop the columns\n",
    "                body = drop_wrist_columns(body)\n",
    "            elif file.endswith(\"_face.csv\"):\n",
    "                face = pd.read_csv(file_path)\n",
    "            elif file.endswith(\"_hands.csv\"):\n",
    "                hands = pd.read_csv(file_path)\n",
    "\n",
    "    # Now merge the dataframe\n",
    "    body_hands = body.merge(hands, on='time', how='outer')\n",
    "    body_hands_face = body_hands.merge(face, on='time', how='outer')\n",
    "    merged_file_path = os.path.join(merged_output_folder, folder_name + '_merged.csv')\n",
    "\n",
    "    face_include = False\n",
    "\n",
    "    if face_include:\n",
    "        body_hands_face.to_csv(merged_file_path, index=False)\n",
    "    else:\n",
    "        body_hands.to_csv(merged_file_path, index=False)\n",
    "    \n"
   ]
  },
  {
   "cell_type": "code",
   "execution_count": 62,
   "metadata": {},
   "outputs": [
    {
     "name": "stdout",
     "output_type": "stream",
     "text": [
      "Merging files for folder: CHIUDERE_LIS_06_CT_Ch\n",
      "Merging files for folder: CHIUDERE_LIS_06_CT_Ad\n"
     ]
    }
   ],
   "source": [
    "output_folder = os.path.join(os.getcwd(), 'Output_TimeSeries')\n",
    "merged_output_folder = os.path.join(output_folder, '00_merged')\n",
    "\n",
    "# Loop thorugh all the folders in the output folder\n",
    "for folder_name in os.listdir(output_folder):\n",
    "    if os.path.isdir(os.path.join(output_folder, folder_name)) and folder_name != '00_merged':\n",
    "        merge_outputs(output_folder, merged_output_folder, folder_name)\n"
   ]
  }
 ],
 "metadata": {
  "kernelspec": {
   "display_name": "sho",
   "language": "python",
   "name": "python3"
  },
  "language_info": {
   "codemirror_mode": {
    "name": "ipython",
    "version": 3
   },
   "file_extension": ".py",
   "mimetype": "text/x-python",
   "name": "python",
   "nbconvert_exporter": "python",
   "pygments_lexer": "ipython3",
   "version": "3.11.4"
  },
  "orig_nbformat": 4
 },
 "nbformat": 4,
 "nbformat_minor": 2
}
