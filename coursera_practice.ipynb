{
 "cells": [
  {
   "attachments": {},
   "cell_type": "markdown",
   "metadata": {},
   "source": [
    "## Week 1 & 2 (Feb 21, 2023)\n",
    "\n"
   ]
  },
  {
   "attachments": {},
   "cell_type": "markdown",
   "metadata": {},
   "source": [
    "### for loop & print()"
   ]
  },
  {
   "cell_type": "code",
   "execution_count": 2,
   "metadata": {},
   "outputs": [
    {
     "name": "stdout",
     "output_type": "stream",
     "text": [
      "1_hey\n",
      "2_hey\n",
      "3_hey\n",
      "4_hey\n",
      "5_hey\n",
      "6_hey\n",
      "7_hey\n",
      "8_hey\n",
      "9_hey\n",
      "10_hey\n",
      "1_hey\n",
      "2_hey\n",
      "3_hey\n",
      "4_hey\n",
      "5_hey\n",
      "6_hey\n",
      "7_hey\n",
      "8_hey\n",
      "9_hey\n",
      "10_hey\n"
     ]
    }
   ],
   "source": [
    "### Let's print 1 to 10 using loop\n",
    "for i in range(10):\n",
    "    print(f\"{i+1}_hey\")\n",
    "\n",
    "#another way to print integer & string at the same time\n",
    "for i in range(10):\n",
    "    print(str(i+1) + \"_hey\")"
   ]
  },
  {
   "cell_type": "code",
   "execution_count": 3,
   "metadata": {},
   "outputs": [
    {
     "name": "stdout",
     "output_type": "stream",
     "text": [
      "Hello Anita\n",
      "Hello Ezgi\n",
      "Hello Ivy\n",
      "Hello Sho\n"
     ]
    }
   ],
   "source": [
    "names = [\"Anita\", \"Ezgi\", \"Ivy\", \"Sho\"]\n",
    "\n",
    "for name in names:\n",
    "    print(\"Hello \" + name)"
   ]
  },
  {
   "attachments": {},
   "cell_type": "markdown",
   "metadata": {},
   "source": [
    "### Function"
   ]
  },
  {
   "cell_type": "code",
   "execution_count": 5,
   "metadata": {},
   "outputs": [
    {
     "name": "stdout",
     "output_type": "stream",
     "text": [
      "The distance for the round trip is: 19.200000000000003\n"
     ]
    }
   ],
   "source": [
    "# Question 1\n",
    "# This function converts miles to kilometers (km).\n",
    "\n",
    "# Complete the function to return the result of the conversion\n",
    "#tip: mile*1.6 = km\n",
    "def mile_to_km(mile):\n",
    "    km = mile * 1.6\n",
    "    return km\n",
    "\n",
    "# Call the function to convert the trip distance from miles to kilometers\n",
    "km = mile_to_km(6)\n",
    "\n",
    "# Calculate the round-trip in kilometers by doubling the result, and fill in the blank to print the result\n",
    "round_trip = km  * 2\n",
    "print(\"The distance for the round trip is: \" + str(round_trip)) #same as print(f\"The distance for the round trip is: {round_trip}\")"
   ]
  },
  {
   "cell_type": "code",
   "execution_count": 11,
   "metadata": {},
   "outputs": [
    {
     "name": "stdout",
     "output_type": "stream",
     "text": [
      "5 is smaller than 10\n"
     ]
    }
   ],
   "source": [
    "# This function compares two numbers and returns them in increasing order.\n",
    "def order(a, b):\n",
    "    if a > b:\n",
    "        return b, a\n",
    "    else:\n",
    "        return a, b\n",
    "\n",
    "# Fill in the blanks, so the print statement displays the result of the function call in order.\n",
    "# Hint: if a function returns multiple values, don't forget to store these values in multiple variables\n",
    "n1, n2 = order(15, 10)\n",
    "print(str(n1) + \" is smaller than \" + str(n2))\n"
   ]
  },
  {
   "attachments": {},
   "cell_type": "markdown",
   "metadata": {},
   "source": [
    "## Week 3 (Feb 24)"
   ]
  },
  {
   "cell_type": "code",
   "execution_count": 5,
   "metadata": {},
   "outputs": [
    {
     "name": "stdout",
     "output_type": "stream",
     "text": [
      "5\n",
      "4\n",
      "3\n",
      "2\n",
      "1\n",
      "Zero!\n"
     ]
    }
   ],
   "source": [
    "def count_down(start_number):\n",
    "    current = start_number #<- initializing current\n",
    "    while (current > 0):\n",
    "        print(current)\n",
    "        current -= 1\n",
    "    print(\"Zero!\")\n",
    "\n",
    "count_down(5)"
   ]
  },
  {
   "cell_type": "code",
   "execution_count": 8,
   "metadata": {},
   "outputs": [
    {
     "name": "stdout",
     "output_type": "stream",
     "text": [
      "1\n",
      "2\n",
      "3\n",
      "4\n",
      "5\n"
     ]
    }
   ],
   "source": [
    "# The following code causes an infinite loop. Can you figure out what’s missing and how to fix it?\n",
    "def print_range(start, end):\n",
    "    # Loop through the numbers from start to end\n",
    "    n = start\n",
    "    while n <= end:\n",
    "        print(n)\n",
    "        n += 1 #<- this one was missing!!\n",
    "\n",
    "print_range(1, 5) # Should print 1 2 3 4 5 (each number on its own line) "
   ]
  },
  {
   "cell_type": "code",
   "execution_count": 9,
   "metadata": {},
   "outputs": [
    {
     "name": "stdout",
     "output_type": "stream",
     "text": [
      "2\n",
      "2\n",
      "5\n",
      "5\n"
     ]
    },
    {
     "data": {
      "text/plain": [
       "'Done'"
      ]
     },
     "execution_count": 9,
     "metadata": {},
     "output_type": "execute_result"
    }
   ],
   "source": [
    "# Fill in the blanks to make the print_prime_factors function print all the prime factors of a number. A prime factor is a number that is prime and divides another without a remainder.\n",
    "\n",
    "def print_prime_factors(number):\n",
    "  # Start with two, which is the first prime\n",
    "  factor = 2 #blank\n",
    "  # Keep going until the factor is larger than the number\n",
    "  while factor <= number:\n",
    "    # Check if factor is a divisor of number\n",
    "    if number % factor == 0: #blank\n",
    "      # If it is, print it and divide the original number\n",
    "      print(factor)\n",
    "      number = number / factor\n",
    "    else:\n",
    "      # If it's not, increment the factor by one\n",
    "      factor += 1 #blank\n",
    "  return \"Done\"\n",
    "\n",
    "print_prime_factors(100)\n",
    "# Should print 2,2,5,5\n",
    "# DO NOT DELETE THIS COMMENT"
   ]
  },
  {
   "cell_type": "code",
   "execution_count": 10,
   "metadata": {},
   "outputs": [
    {
     "name": "stdout",
     "output_type": "stream",
     "text": [
      "False\n",
      "True\n",
      "True\n",
      "False\n"
     ]
    }
   ],
   "source": [
    "# The following code can lead to an infinite loop. Fix the code so that it can finish successfully for all numbers.\n",
    "# Note: Try running your function with the number 0 as the input, and see what you get!\n",
    "\n",
    "def is_power_of_two(n):\n",
    "  # Check if the number can be divided by two without a remainder\n",
    "  while n != 0 and n % 2 == 0: #<- we added n != 0\n",
    "    n = n / 2\n",
    "  # If after dividing by two the number is 1, it's a power of two\n",
    "  if n == 1:\n",
    "    return True\n",
    "  return False\n",
    "  \n",
    "\n",
    "print(is_power_of_two(0)) # Should be False\n",
    "print(is_power_of_two(1)) # Should be True\n",
    "print(is_power_of_two(8)) # Should be True\n",
    "print(is_power_of_two(9)) # Should be False"
   ]
  },
  {
   "cell_type": "code",
   "execution_count": 13,
   "metadata": {},
   "outputs": [
    {
     "name": "stdout",
     "output_type": "stream",
     "text": [
      "0\n",
      "1\n",
      "55\n",
      "114\n"
     ]
    }
   ],
   "source": [
    "# Fill in the empty function so that it returns the sum of all the divisors of a number, without including it. A divisor is a number that divides into another without a remainder.\n",
    "\n",
    "def sum_divisors(n):\n",
    "  sum = 0\n",
    "  factor = 1\n",
    "  # Keep going until the factor is larger than the number\n",
    "  while factor < n:\n",
    "    # Check if factor is a divisor of number\n",
    "    if n % factor == 0:\n",
    "      sum = sum + factor\n",
    "      # factor += 1 <- if you add this here, it doesn't add 1 to the factor when n % factor is NOT 0, which lead to an infinite loop \n",
    "    factor += 1\n",
    "\n",
    "  # Return the sum of all divisors of n, not including n\n",
    "  return sum\n",
    "\n",
    "print(sum_divisors(0))\n",
    "# 0\n",
    "print(sum_divisors(3)) # Should sum of 1\n",
    "# 1\n",
    "print(sum_divisors(36)) # Should sum of 1+2+3+4+6+9+12+18\n",
    "# 55\n",
    "print(sum_divisors(102)) # Should be sum of 2+3+6+17+34+51\n",
    "# 114"
   ]
  },
  {
   "cell_type": "code",
   "execution_count": 14,
   "metadata": {},
   "outputs": [
    {
     "name": "stdout",
     "output_type": "stream",
     "text": [
      "3x1=3\n",
      "3x2=6\n",
      "3x3=9\n",
      "3x4=12\n",
      "3x5=15\n",
      "5x1=5\n",
      "5x2=10\n",
      "5x3=15\n",
      "5x4=20\n",
      "8x1=8\n",
      "8x2=16\n",
      "8x3=24\n"
     ]
    }
   ],
   "source": [
    "# The multiplication_table function prints the results of a number passed to it multiplied by 1 through 5. \n",
    "# An additional requirement is that the result is not to exceed 25, which is done with the break statement. Fill in the blanks to complete the function to satisfy these conditions.\n",
    "\n",
    "def multiplication_table(number):\n",
    "\t# Initialize the starting point of the multiplication table\n",
    "\tmultiplier = 1\n",
    "\t# Only want to loop through 5\n",
    "\twhile multiplier <= 5:\n",
    "\t\tresult = number * multiplier #blank\n",
    "\t\t# What is the additional condition to exit out of the loop?\n",
    "\t\tif result >= 25 : #blank\n",
    "\t\t\tbreak\n",
    "\t\tprint(str(number) + \"x\" + str(multiplier) + \"=\" + str(result))\n",
    "\t\t# Increment the variable for the loop\n",
    "\t\tmultiplier += 1 #blank\n",
    "\n",
    "multiplication_table(3) \n",
    "# Should print: 3x1=3 3x2=6 3x3=9 3x4=12 3x5=15\n",
    "\n",
    "multiplication_table(5) \n",
    "# Should print: 5x1=5 5x2=10 5x3=15 5x4=20 5x5=25\n",
    "\n",
    "multiplication_table(8)\t\n",
    "# Should print: 8x1=8 8x2=16 8x3=24"
   ]
  }
 ],
 "metadata": {
  "kernelspec": {
   "display_name": "base",
   "language": "python",
   "name": "python3"
  },
  "language_info": {
   "codemirror_mode": {
    "name": "ipython",
    "version": 3
   },
   "file_extension": ".py",
   "mimetype": "text/x-python",
   "name": "python",
   "nbconvert_exporter": "python",
   "pygments_lexer": "ipython3",
   "version": "3.9.13"
  },
  "orig_nbformat": 4,
  "vscode": {
   "interpreter": {
    "hash": "07922310928aa9f5abb995a5b187e856e0e867bbddec0959d6d92f2dc49aed3a"
   }
  }
 },
 "nbformat": 4,
 "nbformat_minor": 2
}
