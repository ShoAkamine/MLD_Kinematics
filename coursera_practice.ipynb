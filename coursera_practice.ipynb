{
 "cells": [
  {
   "attachments": {},
   "cell_type": "markdown",
   "metadata": {},
   "source": [
    "## Week 1 & 2 (Feb 21, 2023)\n",
    "\n"
   ]
  },
  {
   "attachments": {},
   "cell_type": "markdown",
   "metadata": {},
   "source": [
    "### for loop & print()"
   ]
  },
  {
   "cell_type": "code",
   "execution_count": 2,
   "metadata": {},
   "outputs": [
    {
     "name": "stdout",
     "output_type": "stream",
     "text": [
      "1_hey\n",
      "2_hey\n",
      "3_hey\n",
      "4_hey\n",
      "5_hey\n",
      "6_hey\n",
      "7_hey\n",
      "8_hey\n",
      "9_hey\n",
      "10_hey\n",
      "1_hey\n",
      "2_hey\n",
      "3_hey\n",
      "4_hey\n",
      "5_hey\n",
      "6_hey\n",
      "7_hey\n",
      "8_hey\n",
      "9_hey\n",
      "10_hey\n"
     ]
    }
   ],
   "source": [
    "### Let's print 1 to 10 using loop\n",
    "for i in range(10):\n",
    "    print(f\"{i+1}_hey\")\n",
    "\n",
    "#another way to print integer & string at the same time\n",
    "for i in range(10):\n",
    "    print(str(i+1) + \"_hey\")"
   ]
  },
  {
   "cell_type": "code",
   "execution_count": 3,
   "metadata": {},
   "outputs": [
    {
     "name": "stdout",
     "output_type": "stream",
     "text": [
      "Hello Anita\n",
      "Hello Ezgi\n",
      "Hello Ivy\n",
      "Hello Sho\n"
     ]
    }
   ],
   "source": [
    "names = [\"Anita\", \"Ezgi\", \"Ivy\", \"Sho\"]\n",
    "\n",
    "for name in names:\n",
    "    print(\"Hello \" + name)"
   ]
  },
  {
   "attachments": {},
   "cell_type": "markdown",
   "metadata": {},
   "source": [
    "### Function"
   ]
  },
  {
   "cell_type": "code",
   "execution_count": 5,
   "metadata": {},
   "outputs": [
    {
     "name": "stdout",
     "output_type": "stream",
     "text": [
      "The distance for the round trip is: 19.200000000000003\n"
     ]
    }
   ],
   "source": [
    "# Question 1\n",
    "# This function converts miles to kilometers (km).\n",
    "\n",
    "# Complete the function to return the result of the conversion\n",
    "#tip: mile*1.6 = km\n",
    "def mile_to_km(mile):\n",
    "    km = mile * 1.6\n",
    "    return km\n",
    "\n",
    "# Call the function to convert the trip distance from miles to kilometers\n",
    "km = mile_to_km(6)\n",
    "\n",
    "# Calculate the round-trip in kilometers by doubling the result, and fill in the blank to print the result\n",
    "round_trip = km  * 2\n",
    "print(\"The distance for the round trip is: \" + str(round_trip)) #same as print(f\"The distance for the round trip is: {round_trip}\")"
   ]
  },
  {
   "cell_type": "code",
   "execution_count": 11,
   "metadata": {},
   "outputs": [
    {
     "name": "stdout",
     "output_type": "stream",
     "text": [
      "5 is smaller than 10\n"
     ]
    }
   ],
   "source": [
    "# This function compares two numbers and returns them in increasing order.\n",
    "def order(a, b):\n",
    "    if a > b:\n",
    "        return b, a\n",
    "    else:\n",
    "        return a, b\n",
    "\n",
    "# Fill in the blanks, so the print statement displays the result of the function call in order.\n",
    "# Hint: if a function returns multiple values, don't forget to store these values in multiple variables\n",
    "n1, n2 = order(15, 10)\n",
    "print(str(n1) + \" is smaller than \" + str(n2))\n"
   ]
  }
 ],
 "metadata": {
  "kernelspec": {
   "display_name": "base",
   "language": "python",
   "name": "python3"
  },
  "language_info": {
   "codemirror_mode": {
    "name": "ipython",
    "version": 3
   },
   "file_extension": ".py",
   "mimetype": "text/x-python",
   "name": "python",
   "nbconvert_exporter": "python",
   "pygments_lexer": "ipython3",
   "version": "3.9.13"
  },
  "orig_nbformat": 4,
  "vscode": {
   "interpreter": {
    "hash": "07922310928aa9f5abb995a5b187e856e0e867bbddec0959d6d92f2dc49aed3a"
   }
  }
 },
 "nbformat": 4,
 "nbformat_minor": 2
}
