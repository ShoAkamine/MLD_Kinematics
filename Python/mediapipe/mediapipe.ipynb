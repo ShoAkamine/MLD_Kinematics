{
 "cells": [
  {
   "cell_type": "markdown",
   "metadata": {},
   "source": [
    "# Using mediapipe for motion tracking\n",
    "\n",
    "In this module, we learn how to run mediapipe to automatically track movements in videos. <br>\n",
    "This notebook is based on https://github.com/WimPouw/envisionBOX_modulesWP/blob/main/MultimodalMerging/Masking_Mediapiping.ipynb."
   ]
  },
  {
   "cell_type": "markdown",
   "metadata": {},
   "source": [
    "***\n",
    "\n",
    "## Overview of the script\n",
    "The script performs following processes in the listed order:\n",
    "\n",
    "1. Import packages and define path for input and output folders\n",
    "1. Check how many video files are in the input folder\n",
    "1. Load mediapipe module and define landmarks (which part of the body do we want track?)\n",
    "1. Make empty objects (similar to dataframes) with column names for face, body, and hands separetely <-- later we will add data to them in step 6-1\n",
    "1. Make a folder for each video\n",
    "1. Perform mediapipe frame-by-frame for each video file\n",
    "    1. For each frame, add coordinates of each landmarks as a row to the face, body, and hands objects\n",
    "    1. Once processed all the frames in the video, save the face, body, and hands objects as csv files in the output folder\n",
    "    1. Move onto the next video file (if any)\n"
   ]
  },
  {
   "cell_type": "markdown",
   "metadata": {},
   "source": [
    "### Import packages and define path for input and output folders\n",
    "Let's first import required packages.\n",
    "\n",
    "<font color = \"mandarin\">If you haven't installed the packages, follow the steps below</font>\n",
    "\n",
    "1. Open terminal/anaconda prompt at the folder in which you store this notebook\n",
    "    - Mac:\n",
    "        1. go to the \"mediapipe\" folder\n",
    "        1. right-click the \"mediapipe\" folder\n",
    "        1. click \"open terminal at this folder\" <br><br>\n",
    "    - Windows:\n",
    "        1. go to the \"mediapipe\" folder\n",
    "        1. copy the path to the folder\n",
    "        1. open Anaconda Prompt\n",
    "        1. type cd and paste the path after a space (e.g., cd D:/users/shoakamine/mld_study_group/Python/mediapipe)\n",
    "        1. type D:\n",
    "1. Activate your conda environment (e.g., conda activate mld_study_group)\n",
    "1. Run this code: pip install -r requirements.txt"
   ]
  },
  {
   "cell_type": "code",
   "execution_count": 7,
   "metadata": {},
   "outputs": [],
   "source": [
    "#load in required packages\n",
    "import mediapipe as mp #mediapipe\n",
    "import cv2 #opencv\n",
    "import math #basic operations\n",
    "import numpy as np #basic operations\n",
    "import pandas as pd #data wrangling\n",
    "import csv #csv saving\n",
    "import os #some basic functions for inspecting folder structure etc.\n",
    "import time as tm #for timing the processing time\n",
    "\n",
    "#list all videos in input_videofolder\n",
    "from os import listdir\n",
    "from os.path import isfile, join\n",
    "\n",
    "inputf_video = \"./input_videos/\" #this is your folder with (all) your video(s)\n",
    "outputf_video = \"./output_videos/\"\n",
    "outputf_ts = \"./output_timeseries/\""
   ]
  },
  {
   "cell_type": "markdown",
   "metadata": {},
   "source": [
    "### Check number of videos files to process"
   ]
  },
  {
   "cell_type": "code",
   "execution_count": 18,
   "metadata": {},
   "outputs": [
    {
     "name": "stdout",
     "output_type": "stream",
     "text": [
      "The following folder is set as the output folder where all the pose time series are stored\n",
      "/Users/shoakamine/MPI/MLD/MLD_StudyGroup/Python/mediapipe/output_timeseries\n",
      "\n",
      " The following folder is set as the output folder for saving the masked videos \n",
      "/Users/shoakamine/MPI/MLD/MLD_StudyGroup/Python/mediapipe/output_videos\n",
      "\n",
      " The following video(s) will be processed for masking: \n",
      "['ted_kid.mp4']\n"
     ]
    }
   ],
   "source": [
    "vfiles = [f for f in listdir(inputf_video) if join(inputf_video, f).endswith(\".mp4\")] #loop through the filenames and collect them in a list\n",
    "\n",
    "#check videos to be processed\n",
    "print(\"The following folder is set as the output folder where all the pose time series are stored\")\n",
    "print(os.path.abspath(outputf_ts))\n",
    "print(\"\\n The following folder is set as the output folder for saving the masked videos \")\n",
    "print(os.path.abspath(outputf_video))\n",
    "print(\"\\n The following video(s) will be processed for masking: \")\n",
    "print(vfiles)"
   ]
  },
  {
   "cell_type": "markdown",
   "metadata": {},
   "source": [
    "### Initialize mediapipe modules"
   ]
  },
  {
   "cell_type": "code",
   "execution_count": 9,
   "metadata": {},
   "outputs": [
    {
     "name": "stdout",
     "output_type": "stream",
     "text": [
      "Note that we have the following number of pose keypoints for markers body\n",
      "33\n",
      "\n",
      " Note that we have the following number of pose keypoints for markers hands\n",
      "42\n",
      "\n",
      " Note that we have the following number of pose keypoints for markers face\n",
      "478\n"
     ]
    }
   ],
   "source": [
    "### initialize modules and functions=======================\n",
    "\n",
    "#load in mediapipe modules\n",
    "mp_holistic = mp.solutions.holistic\n",
    "# Import drawing_utils and drawing_styles.\n",
    "mp_drawing = mp.solutions.drawing_utils\n",
    "mp_drawing_styles = mp.solutions.drawing_styles\n",
    "\n",
    "\n",
    "### Define landmarks=====================================\n",
    "#landmarks 33x that are used by Mediapipe (Blazepose)\n",
    "markersbody = ['NOSE', 'LEFT_EYE_INNER', 'LEFT_EYE', 'LEFT_EYE_OUTER', 'RIGHT_EYE_OUTER', 'RIGHT_EYE', 'RIGHT_EYE_OUTER',\n",
    "          'LEFT_EAR', 'RIGHT_EAR', 'MOUTH_LEFT', 'MOUTH_RIGHT', 'LEFT_SHOULDER', 'RIGHT_SHOULDER', 'LEFT_ELBOW', \n",
    "          'RIGHT_ELBOW', 'LEFT_WRIST', 'RIGHT_WRIST', 'LEFT_PINKY', 'RIGHT_PINKY', 'LEFT_INDEX', 'RIGHT_INDEX',\n",
    "          'LEFT_THUMB', 'RIGHT_THUMB', 'LEFT_HIP', 'RIGHT_HIP', 'LEFT_KNEE', 'RIGHT_KNEE', 'LEFT_ANKLE', 'RIGHT_ANKLE',\n",
    "          'LEFT_HEEL', 'RIGHT_HEEL', 'LEFT_FOOT_INDEX', 'RIGHT_FOOT_INDEX']\n",
    "\n",
    "markershands = ['LEFT_WRIST', 'LEFT_THUMB_CMC', 'LEFT_THUMB_MCP', 'LEFT_THUMB_IP', 'LEFT_THUMB_TIP', 'LEFT_INDEX_FINGER_MCP',\n",
    "              'LEFT_INDEX_FINGER_PIP', 'LEFT_INDEX_FINGER_DIP', 'LEFT_INDEX_FINGER_TIP', 'LEFT_MIDDLE_FINGER_MCP', \n",
    "               'LEFT_MIDDLE_FINGER_PIP', 'LEFT_MIDDLE_FINGER_DIP', 'LEFT_MIDDLE_FINGER_TIP', 'LEFT_RING_FINGER_MCP', \n",
    "               'LEFT_RING_FINGER_PIP', 'LEFT_RING_FINGER_DIP', 'LEFT_RING_FINGER_TIP', 'LEFT_PINKY_FINGER_MCP', \n",
    "               'LEFT_PINKY_FINGER_PIP', 'LEFT_PINKY_FINGER_DIP', 'LEFT_PINKY_FINGER_TIP',\n",
    "              'RIGHT_WRIST', 'RIGHT_THUMB_CMC', 'RIGHT_THUMB_MCP', 'RIGHT_THUMB_IP', 'RIGHT_THUMB_TIP', 'RIGHT_INDEX_FINGER_MCP',\n",
    "              'RIGHT_INDEX_FINGER_PIP', 'RIGHT_INDEX_FINGER_DIP', 'RIGHT_INDEX_FINGER_TIP', 'RIGHT_MIDDLE_FINGER_MCP', \n",
    "               'RIGHT_MIDDLE_FINGER_PIP', 'RIGHT_MIDDLE_FINGER_DIP', 'RIGHT_MIDDLE_FINGER_TIP', 'RIGHT_RING_FINGER_MCP', \n",
    "               'RIGHT_RING_FINGER_PIP', 'RIGHT_RING_FINGER_DIP', 'RIGHT_RING_FINGER_TIP', 'RIGHT_PINKY_FINGER_MCP', \n",
    "               'RIGHT_PINKY_FINGER_PIP', 'RIGHT_PINKY_FINGER_DIP', 'RIGHT_PINKY_FINGER_TIP']\n",
    "facemarks = [str(x) for x in range(478)] #there are 478 points for the face mesh (see google holistic face mesh info for landmarks)\n",
    "\n",
    "print(\"Note that we have the following number of pose keypoints for markers body\")\n",
    "print(len(markersbody))\n",
    "\n",
    "print(\"\\n Note that we have the following number of pose keypoints for markers hands\")\n",
    "print(len(markershands))\n",
    "\n",
    "print(\"\\n Note that we have the following number of pose keypoints for markers face\")\n",
    "print(len(facemarks ))"
   ]
  },
  {
   "cell_type": "markdown",
   "metadata": {},
   "source": [
    "### Make empty objects with column names for face, body, and hands separetely"
   ]
  },
  {
   "cell_type": "code",
   "execution_count": 10,
   "metadata": {},
   "outputs": [],
   "source": [
    "### set up the column names and objects for the time series data (add time as the first variable/column)=======================\n",
    "markerxyzbody = ['time']\n",
    "markerxyzhands = ['time']\n",
    "markerxyzface = ['time']\n",
    "\n",
    "for mark in markersbody:\n",
    "    for pos in ['X', 'Y', 'Z', 'visibility']: #for markers of the body you also have a visibility reliability score\n",
    "        nm = pos + \"_\" + mark\n",
    "        markerxyzbody.append(nm)\n",
    "for mark in markershands:\n",
    "    for pos in ['X', 'Y', 'Z']:\n",
    "        nm = pos + \"_\" + mark\n",
    "        markerxyzhands.append(nm)\n",
    "for mark in facemarks:\n",
    "    for pos in ['X', 'Y', 'Z']:\n",
    "        nm = pos + \"_\" + mark\n",
    "        markerxyzface.append(nm)"
   ]
  },
  {
   "cell_type": "markdown",
   "metadata": {},
   "source": [
    "### Define functions to convert google classification object to numerical values"
   ]
  },
  {
   "cell_type": "code",
   "execution_count": 11,
   "metadata": {},
   "outputs": [],
   "source": [
    "#check if there are numbers in a string\n",
    "def num_there(s):\n",
    "    return any(i.isdigit() for i in s)\n",
    "\n",
    "#take some google classification object and convert it into a string\n",
    "def makegoginto_str(gogobj):\n",
    "    gogobj = str(gogobj).strip(\"[]\")\n",
    "    gogobj = gogobj.split(\"\\n\")\n",
    "    return(gogobj[:-1]) #ignore last element as this has nothing\n",
    "\n",
    "#make the stringifyd position traces into clean numerical values\n",
    "def listpostions(newsamplemarks):\n",
    "    newsamplemarks = makegoginto_str(newsamplemarks)\n",
    "    tracking_p = []\n",
    "    for value in newsamplemarks:\n",
    "        if num_there(value):\n",
    "            stripped = value.split(':', 1)[1]\n",
    "            stripped = stripped.strip() #remove spaces in the string if present\n",
    "            tracking_p.append(stripped) #add to this list  \n",
    "    return(tracking_p)"
   ]
  },
  {
   "cell_type": "markdown",
   "metadata": {},
   "source": [
    "### Let's run mediapipe"
   ]
  },
  {
   "cell_type": "code",
   "execution_count": 24,
   "metadata": {},
   "outputs": [
    {
     "name": "stdout",
     "output_type": "stream",
     "text": [
      "We will now process video:\n",
      "ted_kid.mp4\n",
      "This is video number 0 of 1 videos in total\n"
     ]
    },
    {
     "name": "stderr",
     "output_type": "stream",
     "text": [
      "OpenCV: FFMPEG: tag 0x5634504d/'MP4V' is not supported with codec id 12 and format 'mp4 / MP4 (MPEG-4 Part 14)'\n",
      "OpenCV: FFMPEG: fallback to use tag 0x7634706d/'mp4v'\n"
     ]
    },
    {
     "name": "stdout",
     "output_type": "stream",
     "text": [
      "Processing time for this video: 00:00:53\n",
      "\n",
      " ---------------------------------------------\n",
      "\n",
      "Done with processing all folders; go look in your output folders!\n",
      "Total processing time: 00:00:53\n"
     ]
    }
   ],
   "source": [
    "# do you want to apply masking?\n",
    "masking = False\n",
    "\n",
    "start_time = tm.time() #start the timer\n",
    "\n",
    "#We will now loop over all the videos that are present in the video file\n",
    "for vidf in vfiles:\n",
    "    if masking:\n",
    "        outputf_ts_processed = outputf_ts + vidf.split(\".mp4\")[0] + \"_masked\" + \"/\"\n",
    "    else:\n",
    "        outputf_ts_processed = outputf_ts + vidf.split(\".mp4\")[0] + \"/\"\n",
    "    if os.path.exists(outputf_ts_processed):\n",
    "        print(\"This video has already been processed, so we will skip it\")\n",
    "        continue #skip this video\n",
    "\n",
    "    start_time_vid = tm.time() #start the timer for this video\n",
    "    print(\"We will now process video:\")\n",
    "    print(vidf)\n",
    "    print(\"This is video number \" + str(vfiles.index(vidf))+ \" of \" + str(len(vfiles)) + \" videos in total\")\n",
    "\n",
    "    #capture the video, and check video settings\n",
    "    videoname = vidf\n",
    "    videoloc = inputf_video + videoname\n",
    "    capture = cv2.VideoCapture(videoloc) #load in the videocapture\n",
    "    frameWidth = capture.get(cv2.CAP_PROP_FRAME_WIDTH) #check frame width\n",
    "    frameHeight = capture.get(cv2.CAP_PROP_FRAME_HEIGHT) #check frame height\n",
    "    samplerate = capture.get(cv2.CAP_PROP_FPS)   #fps = frames per second\n",
    "\n",
    "    #make an 'empty' video file where we project the pose tracking on\n",
    "    fourcc = cv2.VideoWriter_fourcc(*'MP4V') #for different video formats you could use e.g., *'XVID'\n",
    "    out = cv2.VideoWriter(outputf_video+videoname, fourcc, \n",
    "    fps = samplerate, frameSize = (int(frameWidth), int(frameHeight)))\n",
    "\n",
    "    # Run MediaPipe frame by frame using Holistic with `enable_segmentation=True` to get pose segmentation.\n",
    "    time = 0\n",
    "    tsbody = [markerxyzbody]   #these will be your time series objects, which start with collumn names initialized above\n",
    "    tshands = [markerxyzhands] #these will be your time series objects, which start with collumn names initialized above\n",
    "    tsface = [markerxyzface]   #these will be your time series objects, which start with collumn names initialized above\n",
    "    with mp_holistic.Holistic(\n",
    "            static_image_mode=True, enable_segmentation=True, refine_face_landmarks=True, model_complexity=1) as holistic:\n",
    "        while (True):\n",
    "            ret, image = capture.read() #read frame\n",
    "            if ret == True: #if there is a frame\n",
    "                image = cv2.cvtColor(image, cv2.COLOR_BGR2RGB) #make sure the image is in RGB format\n",
    "                results = holistic.process(image) #apply Mediapipe holistic processing\n",
    "                # Draw pose segmentation\n",
    "                h, w, c = image.shape\n",
    "                if  np.all(results.segmentation_mask) != None: #check if there is a pose found\n",
    "                    if masking == False:\n",
    "                        original_image = cv2.cvtColor(image, cv2.COLOR_RGB2BGR)\n",
    "                    if masking == True:\n",
    "                        original_image = np.concatenate([image, np.full((h, w, 1), 255, dtype=np.uint8)], axis=-1)\n",
    "                        mask_img = np.zeros_like(image, dtype=np.uint8) #set up basic mask image\n",
    "                        mask_img[:, :] = (255,255,255) #set up basic mask image\n",
    "                        segm_2class = 0.2 + 0.8 * results.segmentation_mask #set up a segmentation of the results of mediapipe\n",
    "                        segm_2class = np.repeat(segm_2class[..., np.newaxis], 3, axis=2) #set up a segmentation of the results of mediapipe\n",
    "                        annotated_image = mask_img * segm_2class * (1 - segm_2class) #take the basic mask image and make a sillhouette mask\n",
    "                        # append Alpha channel to sillhouetted mask so that we can overlay it to the original image\n",
    "                        mask = np.concatenate([annotated_image, np.full((h, w, 1), 255, dtype=np.uint8)], axis=-1)\n",
    "                        # Zero background where we want to overlay\n",
    "                        original_image[mask==0]=0 #for the original image we are going to set everything at zero for places where the mask has to go\n",
    "                        original_image = cv2.cvtColor(original_image, cv2.COLOR_RGB2BGR)\n",
    "                    #now lets draw on the original_image the left and right hand landmarks, the facemesh and the body poses\n",
    "                        #left hand\n",
    "                    mp_drawing.draw_landmarks(original_image, results.left_hand_landmarks, mp_holistic.HAND_CONNECTIONS)\n",
    "                        #right hand\n",
    "                    mp_drawing.draw_landmarks(original_image, results.right_hand_landmarks, mp_holistic.HAND_CONNECTIONS)\n",
    "                        #face\n",
    "                    mp_drawing.draw_landmarks(\n",
    "                            original_image,\n",
    "                            results.face_landmarks,\n",
    "                            mp_holistic.FACEMESH_TESSELATION,\n",
    "                            landmark_drawing_spec=None,\n",
    "                            connection_drawing_spec=mp_drawing_styles\n",
    "                            .get_default_face_mesh_tesselation_style())\n",
    "                        #body\n",
    "                    mp_drawing.draw_landmarks(\n",
    "                            original_image,\n",
    "                            results.pose_landmarks,\n",
    "                            mp_holistic.POSE_CONNECTIONS,\n",
    "                            landmark_drawing_spec=mp_drawing_styles.\n",
    "                            get_default_pose_landmarks_style())\n",
    "                    \n",
    "                    #######################now save everything to a time series\n",
    "                        #make a variable list with x, y, z, info where data is appended to\n",
    "                    samplebody = listpostions(results.pose_landmarks)\n",
    "                    samplehands = listpostions([results.left_hand_landmarks, results.right_hand_landmarks])\n",
    "                    sampleface = listpostions(results.face_landmarks)\n",
    "                    samplebody.insert(0, time)\n",
    "                    samplehands.insert(0, time)\n",
    "                    sampleface.insert(0, time)\n",
    "                    tsbody.append(samplebody)   #append to the timeseries object\n",
    "                    tshands.append(samplehands) #append to the timeseries object\n",
    "                    tsface.append(sampleface)   #append to the timeseries object\n",
    "                #show the video as we process (you can comment this out, if you want to run this process in the background)\n",
    "                cv2.imshow(\"resizedimage\", original_image)\n",
    "                out.write(original_image) #save the frame to the new masked video\n",
    "                time = time+(1000/samplerate)#update the time variable  for the next frame\n",
    "            if cv2.waitKey(1) == 27: #allow the use of ESCAPE to break the loop\n",
    "                break\n",
    "            if ret == False: #if there are no more frames, break the loop\n",
    "                break\n",
    "\n",
    "    #once done de-initialize all processes\n",
    "    out.release()\n",
    "    capture.release()\n",
    "    cv2.destroyAllWindows()\n",
    "    cv2.waitKey(1) #this is needed to close the window for mac users\n",
    "\n",
    "    ####################################################### data to be written row-wise in csv file\n",
    "    os.makedirs(outputf_ts_processed) #make a folder for the output\n",
    "    \n",
    "    # opening the csv file in 'w+' mode\n",
    "    filebody = open(outputf_ts_processed + vidf[:-4]+'_body.csv', 'w+', newline ='')\n",
    "    #write it\n",
    "    with filebody:    \n",
    "        write = csv.writer(filebody)\n",
    "        write.writerows(tsbody)\n",
    "\n",
    "    # opening the csv file in 'w+' mode\n",
    "    filehands = open(outputf_ts_processed + vidf[:-4]+'_hands.csv', 'w+', newline ='')\n",
    "    #write it\n",
    "    with filehands:\n",
    "        write = csv.writer(filehands)\n",
    "        write.writerows(tshands)\n",
    "\n",
    "    # opening the csv file in 'w+' mode\n",
    "    fileface = open(outputf_ts_processed + vidf[:-4]+'_face.csv', 'w+', newline ='')\n",
    "    #write it\n",
    "    with fileface:    \n",
    "        write = csv.writer(fileface)\n",
    "        write.writerows(tsface)\n",
    "    \n",
    "    time_formatted = tm.strftime(\"%H:%M:%S\", tm.gmtime(tm.time() - start_time_vid))\n",
    "    print(f\"Processing time for this video: {time_formatted}\")\n",
    "    print(\"\\n ---------------------------------------------\\n\")\n",
    "\n",
    "total_time_formatted = tm.strftime(\"%H:%M:%S\", tm.gmtime(tm.time() - start_time))\n",
    "print(\"Done with processing all folders; go look in your output folders!\")\n",
    "print(f\"Total processing time: {total_time_formatted}\") #print the time it took to run the script"
   ]
  },
  {
   "cell_type": "markdown",
   "metadata": {},
   "source": [
    "### Exercise 1\n",
    "Let's change \"masking\" option to True and run the code again! <br>\n",
    "What changed now?"
   ]
  },
  {
   "cell_type": "markdown",
   "metadata": {},
   "source": [
    "### Exercise 2\n",
    "Let's run mediapipe on your data!"
   ]
  }
 ],
 "metadata": {
  "kernelspec": {
   "display_name": "sho",
   "language": "python",
   "name": "python3"
  },
  "language_info": {
   "codemirror_mode": {
    "name": "ipython",
    "version": 3
   },
   "file_extension": ".py",
   "mimetype": "text/x-python",
   "name": "python",
   "nbconvert_exporter": "python",
   "pygments_lexer": "ipython3",
   "version": "3.11.4"
  }
 },
 "nbformat": 4,
 "nbformat_minor": 2
}
