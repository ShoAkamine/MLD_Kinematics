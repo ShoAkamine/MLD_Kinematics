{
 "cells": [
  {
   "cell_type": "markdown",
   "metadata": {},
   "source": [
    "## Using ffmpeg-python to trim videos and audio files\n",
    "\n",
    "In this module, we will trim videos and audio files using ffmpeg-python package.\n",
    "\n",
    "### Case senario\n",
    "**Case 1**: Imagine that you have annotated a video for co-speech manual gestures and speech. Next, you want to extract a video for each annotated gesture. How do you do it?\n",
    "\n",
    "**Case 2**: You have 60 videos from an experiment. The video starts 3-5 minutes before the trials start, and you want to trim the part before the trials. How do you do it?\n",
    "<br>\n",
    "<br>\n",
    "\n",
    "Obviously, manually trimming the videos isn't the most efficient option. But I have good news for you: **You can use Python to automate this tedious task!!**"
   ]
  },
  {
   "cell_type": "markdown",
   "metadata": {},
   "source": [
    "### Playing with ffmpeg-python"
   ]
  },
  {
   "cell_type": "code",
   "execution_count": null,
   "metadata": {},
   "outputs": [],
   "source": [
    "import ffmpeg\n",
    "\n",
    "media_start = 10 # seconds\n",
    "input_file_path = \"input/salma_hayek_video.mp4\"\n",
    "trimmed_video_file_path = \"output/salma_hayek_video_trimmed.mp4\"\n",
    "\n",
    "ffmpeg.input(input_file_path, ss=media_start).output(trimmed_video_file_path, c='copy').run()"
   ]
  },
  {
   "cell_type": "markdown",
   "metadata": {},
   "source": [
    "## Case 1"
   ]
  },
  {
   "cell_type": "code",
   "execution_count": null,
   "metadata": {},
   "outputs": [],
   "source": [
    "### Import libraries\n",
    "import os\n",
    "import pandas as pd\n",
    "from datetime import datetime, timedelta\n",
    "import ffmpeg"
   ]
  },
  {
   "cell_type": "code",
   "execution_count": null,
   "metadata": {},
   "outputs": [],
   "source": [
    "### Folders\n",
    "media_folder = \"02_media\"\n",
    "presentation_folder = \"03_presentation_logs\"\n",
    "processed_folder = os.path.join(presentation_folder, \"02_processed\")\n",
    "trials_folder = os.path.join(processed_folder, \"02_trials\")"
   ]
  },
  {
   "cell_type": "markdown",
   "metadata": {},
   "source": [
    "### Functions"
   ]
  },
  {
   "cell_type": "code",
   "execution_count": null,
   "metadata": {},
   "outputs": [],
   "source": [
    "def trim_video(folder, processed_folder, media_start):\n",
    "    # Get the video files\n",
    "    video_files = [f for f in os.listdir(folder) if f.endswith('.mp4')]\n",
    "    # Trim the video files\n",
    "    for video_file in video_files:\n",
    "        video_file_path = os.path.join(folder, video_file)\n",
    "        trimmed_video_file_path = os.path.join(processed_folder, video_file)\n",
    "\n",
    "        if not os.path.exists(trimmed_video_file_path):\n",
    "            print(\"Trimming video file: \" + video_file)\n",
    "            ffmpeg.input(video_file_path, ss=media_start).output(trimmed_video_file_path, c='copy').run()\n",
    "\n",
    "\n",
    "def trim_audio(folder, processed_folder, media_start):\n",
    "    # Get the audio files\n",
    "    audio_files = [f for f in os.listdir(folder) if f.endswith('.wav')]\n",
    "    # Trim the audio files\n",
    "    for audio_file in audio_files:\n",
    "        audio_file_path = os.path.join(folder, audio_file)\n",
    "        trimmed_audio_file_path = os.path.join(processed_folder, audio_file)\n",
    "\n",
    "        if not os.path.exists(trimmed_audio_file_path):\n",
    "            print(\"Trimming audio file: \" + audio_file)\n",
    "            ffmpeg.input(audio_file_path, ss=media_start).output(trimmed_audio_file_path, c='copy').run()"
   ]
  },
  {
   "cell_type": "code",
   "execution_count": null,
   "metadata": {},
   "outputs": [],
   "source": [
    "for file in os.listdir(trials_folder):\n",
    "    media_file_folder = os.path.join(media_folder, file.split(\"_\")[0])\n",
    "    processed_folder = os.path.join(media_file_folder, \"processed\")\n",
    "    \n",
    "    if file.endswith(\"_trials.csv\"):\n",
    "        task_start, media_start = calculate_media_trim(file)\n",
    "        \n",
    "        #if the media_start is less than 1 second, skip the file\n",
    "        if task_start < \"00:00:01.000\":\n",
    "            continue\n",
    "        \n",
    "        make_processed_folder(processed_folder)\n",
    "        trim_video(media_file_folder, processed_folder, media_start)\n",
    "        trim_audio(media_file_folder, processed_folder, media_start)"
   ]
  }
 ],
 "metadata": {
  "kernelspec": {
   "display_name": "sho",
   "language": "python",
   "name": "python3"
  },
  "language_info": {
   "codemirror_mode": {
    "name": "ipython",
    "version": 3
   },
   "file_extension": ".py",
   "mimetype": "text/x-python",
   "name": "python",
   "nbconvert_exporter": "python",
   "pygments_lexer": "ipython3",
   "version": "3.11.4"
  }
 },
 "nbformat": 4,
 "nbformat_minor": 2
}
